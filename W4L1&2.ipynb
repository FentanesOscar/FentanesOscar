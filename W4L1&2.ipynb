{
  "nbformat": 4,
  "nbformat_minor": 0,
  "metadata": {
    "colab": {
      "provenance": [],
      "collapsed_sections": [
        "ZcfUsUZRiG7M",
        "_7MWC5Ce7aYq",
        "jPVBzGQj7Y6q",
        "702S_2Y9_tv0",
        "KvvnSkdhQlcL",
        "7tBpMAiCSMP1",
        "qORbVv5tV7Qi",
        "YsySv9KdaBf1",
        "5GkCno2Bb1ud",
        "mz5tJ1FHeqbR",
        "U6bPzy3cf6mq",
        "eQujUatug6xI"
      ],
      "authorship_tag": "ABX9TyORfcBU7MgKo41xw5elF0ZL",
      "include_colab_link": true
    },
    "kernelspec": {
      "name": "python3",
      "display_name": "Python 3"
    },
    "language_info": {
      "name": "python"
    }
  },
  "cells": [
    {
      "cell_type": "markdown",
      "metadata": {
        "id": "view-in-github",
        "colab_type": "text"
      },
      "source": [
        "<a href=\"https://colab.research.google.com/github/FentanesOscar/FentanesOscar/blob/main/W4L1%262.ipynb\" target=\"_parent\"><img src=\"https://colab.research.google.com/assets/colab-badge.svg\" alt=\"Open In Colab\"/></a>"
      ]
    },
    {
      "cell_type": "markdown",
      "source": [
        "#W4. L1. Condtional & IF Statements"
      ],
      "metadata": {
        "id": "ZcfUsUZRiG7M"
      }
    },
    {
      "cell_type": "markdown",
      "source": [
        "###Coniditional Statements\n",
        "---"
      ],
      "metadata": {
        "id": "_7MWC5Ce7aYq"
      }
    },
    {
      "cell_type": "code",
      "execution_count": null,
      "metadata": {
        "colab": {
          "base_uri": "https://localhost:8080/"
        },
        "id": "Xer9JVwYwlbf",
        "outputId": "12372f5b-05bb-4041-9624-9e84b285c4b3"
      },
      "outputs": [
        {
          "output_type": "stream",
          "name": "stdout",
          "text": [
            "Number is even\n"
          ]
        }
      ],
      "source": [
        " x = 28\n",
        "\n",
        "if x%2==0:\n",
        "  print('Number is even')\n",
        "else:\n",
        "  print('Number is odd')"
      ]
    },
    {
      "cell_type": "code",
      "source": [
        "#multiple condition\n",
        "\n",
        "if (1+1==2) and (1-1==0):\n",
        "  print(\"Both statements are true\")\n",
        "elif 1!=2:\n",
        "  print('cool')\n",
        "else:\n",
        "  print('At least one statement is wrong')"
      ],
      "metadata": {
        "colab": {
          "base_uri": "https://localhost:8080/"
        },
        "id": "twYF75_N7SPK",
        "outputId": "2288e929-9a67-4361-d80b-5a24fcd86afb"
      },
      "execution_count": null,
      "outputs": [
        {
          "output_type": "stream",
          "name": "stdout",
          "text": [
            "Both statements are true\n"
          ]
        }
      ]
    },
    {
      "cell_type": "code",
      "source": [
        "##Checking for Vowels\n",
        "letter = 'a'\n",
        "if letter in ['a','e','i','o','u']:\n",
        "  print('Letter is a vowel')\n",
        "else:\n",
        "  print('no vowels here')"
      ],
      "metadata": {
        "colab": {
          "base_uri": "https://localhost:8080/"
        },
        "id": "TIrA-ocw79rS",
        "outputId": "f2b6cd25-18aa-4528-ba24-8a40b1b1f9df"
      },
      "execution_count": null,
      "outputs": [
        {
          "output_type": "stream",
          "name": "stdout",
          "text": [
            "Letter is a vowel\n"
          ]
        }
      ]
    },
    {
      "cell_type": "code",
      "source": [],
      "metadata": {
        "id": "53UmyemY8W3K"
      },
      "execution_count": null,
      "outputs": []
    },
    {
      "cell_type": "markdown",
      "source": [
        "###Checking multiple Conditions\n",
        "---"
      ],
      "metadata": {
        "id": "jPVBzGQj7Y6q"
      }
    },
    {
      "cell_type": "code",
      "source": [
        "a = 3\n",
        "b = 10\n",
        "\n",
        "if (a>=5) and (b>5):\n",
        "  c=a*b\n",
        "elif (a>5) and (b<=5):\n",
        "  c=a-b\n",
        "else:\n",
        "  c='Failed'\n",
        "\n",
        "print(c)\n"
      ],
      "metadata": {
        "colab": {
          "base_uri": "https://localhost:8080/"
        },
        "id": "aGQUsaAE8dyX",
        "outputId": "96e2312e-a28f-43f3-e765-256841ce6046"
      },
      "execution_count": null,
      "outputs": [
        {
          "output_type": "stream",
          "name": "stdout",
          "text": [
            "Failed\n"
          ]
        }
      ]
    },
    {
      "cell_type": "code",
      "source": [
        "##Student Grade pass or fail\n",
        "\n",
        "marks = 40\n",
        "\n",
        "if marks>=50:\n",
        "  print('Pass')\n",
        "else:\n",
        "  print('Fail')\n",
        "\n"
      ],
      "metadata": {
        "colab": {
          "base_uri": "https://localhost:8080/"
        },
        "id": "ThvUx8Rd8xRr",
        "outputId": "d23812c6-4df0-4e86-be50-1c6ea06eb62a"
      },
      "execution_count": null,
      "outputs": [
        {
          "output_type": "stream",
          "name": "stdout",
          "text": [
            "Fail\n"
          ]
        }
      ]
    },
    {
      "cell_type": "code",
      "source": [
        "###\n",
        "\n",
        "score = 82\n",
        "\n",
        "if score>=90:\n",
        "  grade='A'\n",
        "elif score>=80:\n",
        "  grade='B'\n",
        "elif score>=70:\n",
        "  grade='C'\n",
        "elif score>= 60:\n",
        "  grade='D'\n",
        "else:\n",
        "  grade='F'\n",
        "\n",
        "\n",
        "print('The students grade is: {}'.format(grade))"
      ],
      "metadata": {
        "colab": {
          "base_uri": "https://localhost:8080/"
        },
        "id": "ZtE2XjgV9m8I",
        "outputId": "80d2ff8b-4b61-4664-f873-201dc8c2ce06"
      },
      "execution_count": null,
      "outputs": [
        {
          "output_type": "stream",
          "name": "stdout",
          "text": [
            "The students grade is: B\n"
          ]
        }
      ]
    },
    {
      "cell_type": "code",
      "source": [
        "### Checkign discounts based on purchase ammount\n",
        "\n",
        "purchase_ammount=75\n",
        "\n",
        "if purchase_ammount<50:\n",
        "  discount=0\n",
        "elif purchase_ammount<100:\n",
        "  discount=10\n",
        "elif purchase_ammount<200:\n",
        "  discount=20\n",
        "elif purchase_ammount<300:\n",
        "  discount=30\n",
        "else:\n",
        "  discount=30\n",
        "\n",
        "\n",
        "final_ammount = purchase_ammount - (purchase_ammount*discount/100)\n",
        "\n",
        "print('There is a {}% discount on that ${} purchase. The total would be {}'.format(discount, purchase_ammount, final_ammount))\n",
        "\n"
      ],
      "metadata": {
        "colab": {
          "base_uri": "https://localhost:8080/"
        },
        "id": "-lzN2Tkl-NEd",
        "outputId": "807308a1-55c4-4037-d89d-a768c20e4059"
      },
      "execution_count": null,
      "outputs": [
        {
          "output_type": "stream",
          "name": "stdout",
          "text": [
            "There is a 10% discount on that $75 purchase. The total would be 67.5\n"
          ]
        }
      ]
    },
    {
      "cell_type": "markdown",
      "source": [
        "###Nested IF Statement\n",
        "---"
      ],
      "metadata": {
        "id": "702S_2Y9_tv0"
      }
    },
    {
      "cell_type": "code",
      "source": [
        "### Example 1: Checking for age group\n",
        "\n",
        "age = 10\n",
        "\n",
        "if age<18:\n",
        "  if age<13:\n",
        "    print('Child')\n",
        "  else:\n",
        "    print('Teenager')\n",
        "else:\n",
        "  if age<65:\n",
        "    print('Adult')\n",
        "  else:\n",
        "    print('Senior')"
      ],
      "metadata": {
        "colab": {
          "base_uri": "https://localhost:8080/"
        },
        "id": "E5RWOIFo_aOW",
        "outputId": "f4495eaa-97f2-4687-f7a3-1ddff0caedeb"
      },
      "execution_count": null,
      "outputs": [
        {
          "output_type": "stream",
          "name": "stdout",
          "text": [
            "Child\n"
          ]
        }
      ]
    },
    {
      "cell_type": "code",
      "source": [
        "## Example 2: Checking for Grade\n",
        "\n",
        "score = 20\n",
        "\n",
        "if score>=90:\n",
        "  print('Grade A')\n",
        "else:\n",
        "  if score>=80:\n",
        "    print('Grade B')\n",
        "  else:\n",
        "    if score>=70:\n",
        "      print('Grade C')\n",
        "    else:\n",
        "      if score>=60:\n",
        "        print('Grade D')\n",
        "      else:\n",
        "        print('Grade F')\n",
        "\n"
      ],
      "metadata": {
        "colab": {
          "base_uri": "https://localhost:8080/"
        },
        "id": "iK42wGbPARg1",
        "outputId": "79218441-6cca-4d7f-88bb-5bb5373f2817"
      },
      "execution_count": null,
      "outputs": [
        {
          "output_type": "stream",
          "name": "stdout",
          "text": [
            "Grade F\n"
          ]
        }
      ]
    },
    {
      "cell_type": "code",
      "source": [
        "### Example 3: Checking the type of triangle based on side length\n",
        "\n",
        "side1=3\n",
        "side2=3\n",
        "side3=50\n",
        "\n",
        "if side1+side2>side3:\n",
        "  if side1==side2==side3:\n",
        "    print('Equilateral Triangle')\n",
        "  elif side1==side2 or side2==side3 or side3==side1:\n",
        "    print('Isosceles Triangle')\n",
        "  else:\n",
        "    print('Scalene Triangle')\n",
        "else:\n",
        "  print('Invalid Triangle')\n",
        "\n"
      ],
      "metadata": {
        "colab": {
          "base_uri": "https://localhost:8080/"
        },
        "id": "xHp21yHWAbAB",
        "outputId": "b2c0ce61-1af1-47f3-b92a-fd897f9f441f"
      },
      "execution_count": null,
      "outputs": [
        {
          "output_type": "stream",
          "name": "stdout",
          "text": [
            "Invalid Triangle\n"
          ]
        }
      ]
    },
    {
      "cell_type": "code",
      "source": [
        "## Example 4: age\n",
        "\n",
        "age = 16\n",
        "\n",
        "if age<18 or age >=60:\n",
        "  print('You are a danger on the road')\n",
        "else:\n",
        "  print('You are still a danger on the road but not as much')\n"
      ],
      "metadata": {
        "colab": {
          "base_uri": "https://localhost:8080/"
        },
        "id": "h5K1ZzYtB4Y4",
        "outputId": "bf85c03e-a982-4e32-8060-23d7e89d113d"
      },
      "execution_count": null,
      "outputs": [
        {
          "output_type": "stream",
          "name": "stdout",
          "text": [
            "You are a danger on the road\n"
          ]
        }
      ]
    },
    {
      "cell_type": "code",
      "source": [
        "##Example 5: Combing Logical Operators\n",
        "\n",
        "age = 40\n",
        "income = 27000\n",
        "\n",
        "if (age>=18 and age<=50) and income>30000:\n",
        "  print('Eligible for a loan')\n",
        "else:\n",
        "  print('Ineligible for a loan')\n",
        "\n"
      ],
      "metadata": {
        "colab": {
          "base_uri": "https://localhost:8080/"
        },
        "id": "Hd_h4S2BCpgU",
        "outputId": "d3763082-4991-44d8-e645-0db007baaff9"
      },
      "execution_count": null,
      "outputs": [
        {
          "output_type": "stream",
          "name": "stdout",
          "text": [
            "Ineligible for a loan\n"
          ]
        }
      ]
    },
    {
      "cell_type": "code",
      "source": [
        "### Not Operator\n",
        "\n",
        "is_raining = True\n",
        "\n",
        "if not is_raining:\n",
        "  print('You can go for a walk.')\n",
        "else:\n",
        "  print('I would stay home.')"
      ],
      "metadata": {
        "colab": {
          "base_uri": "https://localhost:8080/"
        },
        "id": "VgVStYYjC93g",
        "outputId": "44ed06cf-5822-433d-b93b-c1dd012ae907"
      },
      "execution_count": null,
      "outputs": [
        {
          "output_type": "stream",
          "name": "stdout",
          "text": [
            "I would stay home\n"
          ]
        }
      ]
    },
    {
      "cell_type": "code",
      "source": [
        "## Example 6: scores... again\n",
        "\n"
      ],
      "metadata": {
        "id": "Q9BJMxGBDOP8"
      },
      "execution_count": null,
      "outputs": []
    },
    {
      "cell_type": "markdown",
      "source": [
        "#W4. L2. Loops\n",
        "---"
      ],
      "metadata": {
        "id": "KvvnSkdhQlcL"
      }
    },
    {
      "cell_type": "markdown",
      "source": [
        "Loops are used for tasks that are repetitive and follow a pattern\n"
      ],
      "metadata": {
        "id": "tgH2uP3KRA0a"
      }
    },
    {
      "cell_type": "markdown",
      "source": [
        "1. While Loop: as long as something is True, keep doing this action\n",
        "\n",
        "2. For Loop: Iteratve over a sequence and executes a block of code."
      ],
      "metadata": {
        "id": "wfiAiDxmREVf"
      }
    },
    {
      "cell_type": "code",
      "source": [
        "### Print hella times\n",
        "\n",
        "print('hello')\n",
        "print('hello')\n",
        "print('hello')\n",
        "print('hello')\n",
        "print('hello')"
      ],
      "metadata": {
        "colab": {
          "base_uri": "https://localhost:8080/"
        },
        "id": "nqt6xAZ0RObs",
        "outputId": "dd0bcdd1-d48b-41b3-a96f-ef2f31e57761"
      },
      "execution_count": null,
      "outputs": [
        {
          "output_type": "stream",
          "name": "stdout",
          "text": [
            "hello\n",
            "hello\n",
            "hello\n",
            "hello\n",
            "hello\n"
          ]
        }
      ]
    },
    {
      "cell_type": "code",
      "source": [
        "for i in list(range(10)):\n",
        "  print('hello')"
      ],
      "metadata": {
        "colab": {
          "base_uri": "https://localhost:8080/"
        },
        "id": "YNjkSyGCRdUq",
        "outputId": "62422e0b-bf56-44d8-bd71-5d6416a21f09"
      },
      "execution_count": null,
      "outputs": [
        {
          "output_type": "stream",
          "name": "stdout",
          "text": [
            "hello\n",
            "hello\n",
            "hello\n",
            "hello\n",
            "hello\n",
            "hello\n",
            "hello\n",
            "hello\n",
            "hello\n",
            "hello\n"
          ]
        }
      ]
    },
    {
      "cell_type": "markdown",
      "source": [
        "###While"
      ],
      "metadata": {
        "id": "7tBpMAiCSMP1"
      }
    },
    {
      "cell_type": "code",
      "source": [
        "toad = 6\n",
        "\n",
        "while toad<=5:\n",
        "  print(toad)\n",
        "\n",
        "## Since 1 is always less than 5, this would run forever"
      ],
      "metadata": {
        "id": "BbqmSaLuSJft"
      },
      "execution_count": null,
      "outputs": []
    },
    {
      "cell_type": "code",
      "source": [
        "frog = -1\n",
        "\n",
        "while frog<=5:\n",
        "  print(frog)\n",
        "  frog=frog+0.5 ## equal syntax would be: frog+=0.5\n",
        "\n",
        "## Here frog gets 0.5 added to it and printed until it is greater than 5"
      ],
      "metadata": {
        "colab": {
          "base_uri": "https://localhost:8080/"
        },
        "collapsed": true,
        "id": "Ptp93PsrSU6b",
        "outputId": "94f367c3-3b23-4b64-a467-4727cde59193"
      },
      "execution_count": null,
      "outputs": [
        {
          "output_type": "stream",
          "name": "stdout",
          "text": [
            "-1\n",
            "-0.5\n",
            "0.0\n",
            "0.5\n",
            "1.0\n",
            "1.5\n",
            "2.0\n",
            "2.5\n",
            "3.0\n",
            "3.5\n",
            "4.0\n",
            "4.5\n",
            "5.0\n"
          ]
        }
      ]
    },
    {
      "cell_type": "code",
      "source": [
        "h = 10\n",
        "\n",
        "while h > 0:\n",
        "  print('The value of h is {}'.format(h))\n",
        "  h-=1"
      ],
      "metadata": {
        "colab": {
          "base_uri": "https://localhost:8080/"
        },
        "id": "XT1ulz0bTepm",
        "outputId": "e2ec0cec-63d6-497b-c036-60f4103b375e"
      },
      "execution_count": null,
      "outputs": [
        {
          "output_type": "stream",
          "name": "stdout",
          "text": [
            "The value of h is 10\n",
            "The value of h is 9\n",
            "The value of h is 8\n",
            "The value of h is 7\n",
            "The value of h is 6\n",
            "The value of h is 5\n",
            "The value of h is 4\n",
            "The value of h is 3\n",
            "The value of h is 2\n",
            "The value of h is 1\n"
          ]
        }
      ]
    },
    {
      "cell_type": "code",
      "source": [
        "greg = 1\n",
        "\n",
        "while greg<2000:\n",
        "  greg = greg*2\n",
        "  print(greg)"
      ],
      "metadata": {
        "colab": {
          "base_uri": "https://localhost:8080/"
        },
        "id": "Gq5wYMOTUOGH",
        "outputId": "24cd2a31-80b0-40c9-9c30-8245efc98c71"
      },
      "execution_count": null,
      "outputs": [
        {
          "output_type": "stream",
          "name": "stdout",
          "text": [
            "2\n",
            "4\n",
            "8\n",
            "16\n",
            "32\n",
            "64\n",
            "128\n",
            "256\n",
            "512\n",
            "1024\n",
            "2048\n"
          ]
        }
      ]
    },
    {
      "cell_type": "markdown",
      "source": [
        "###While Loops with User input"
      ],
      "metadata": {
        "id": "qORbVv5tV7Qi"
      }
    },
    {
      "cell_type": "code",
      "source": [
        "message=' '\n",
        "\n",
        "while message != 'quit':\n",
        "  message= input()\n"
      ],
      "metadata": {
        "id": "9OhaIjUiV94W",
        "colab": {
          "base_uri": "https://localhost:8080/"
        },
        "outputId": "a4d678e4-2145-41d7-adbb-781ec91feae3"
      },
      "execution_count": null,
      "outputs": [
        {
          "name": "stdout",
          "output_type": "stream",
          "text": [
            "u\n",
            "h\n",
            "quit\n"
          ]
        }
      ]
    },
    {
      "cell_type": "code",
      "source": [
        "correct_pass = 'Pass123'\n",
        "user_input = \" \"\n",
        "\n",
        "while user_input != correct_pass:\n",
        "  user_input = input('Password: ')\n",
        "\n",
        "print('Access granted')"
      ],
      "metadata": {
        "id": "u7yaGoLUWYkz"
      },
      "execution_count": null,
      "outputs": []
    },
    {
      "cell_type": "code",
      "source": [
        "### Countdown (its the final)\n",
        "\n",
        "count = int(input('Enter a number'))\n",
        "\n",
        "while count>0:\n",
        "  print(count)\n",
        "  count-=1\n",
        "\n",
        "print('Happy New Years!!')"
      ],
      "metadata": {
        "id": "dsCW8ebVXcBb",
        "colab": {
          "base_uri": "https://localhost:8080/"
        },
        "outputId": "87252039-a894-494b-e3db-11717135296f"
      },
      "execution_count": null,
      "outputs": [
        {
          "output_type": "stream",
          "name": "stdout",
          "text": [
            "Enter a number10\n",
            "10\n",
            "9\n",
            "8\n",
            "7\n",
            "6\n",
            "5\n",
            "4\n",
            "3\n",
            "2\n",
            "1\n",
            "Happy New Years!!\n"
          ]
        }
      ]
    },
    {
      "cell_type": "code",
      "source": [
        "monte = 0\n",
        "\n",
        "while monte < 5:\n",
        "  print(\"Count:\",monte)\n",
        "  monte+=1\n",
        "\n",
        "print('Loop Ended')"
      ],
      "metadata": {
        "id": "u3VcNT_-Y9Ll",
        "outputId": "3d1d4aac-c479-49d9-a7db-100872ca3b05",
        "colab": {
          "base_uri": "https://localhost:8080/"
        }
      },
      "execution_count": null,
      "outputs": [
        {
          "output_type": "stream",
          "name": "stdout",
          "text": [
            "Count: 0\n",
            "Count: 1\n",
            "Count: 2\n",
            "Count: 3\n",
            "Count: 4\n",
            "Loop Ended\n"
          ]
        }
      ]
    },
    {
      "cell_type": "code",
      "source": [],
      "metadata": {
        "id": "tb3JeGhFZszJ"
      },
      "execution_count": null,
      "outputs": []
    },
    {
      "cell_type": "markdown",
      "source": [
        "### Using BREAK to exit a Loop"
      ],
      "metadata": {
        "id": "YsySv9KdaBf1"
      }
    },
    {
      "cell_type": "code",
      "source": [
        "steve = 0\n",
        "\n",
        "while True:## infinite loop possibility\n",
        "  print(steve)\n",
        "  steve+=1\n",
        "  if steve>=10:## breaks the loop\n",
        "    break\n"
      ],
      "metadata": {
        "id": "hCb66_d1aFKt"
      },
      "execution_count": null,
      "outputs": []
    },
    {
      "cell_type": "code",
      "source": [
        "edgar = 3\n",
        "\n",
        "while True:\n",
        "  print(edgar)\n",
        "  edgar+=1\n",
        "  if edgar>15:\n",
        "    break"
      ],
      "metadata": {
        "id": "c25TsH9GacEp"
      },
      "execution_count": null,
      "outputs": []
    },
    {
      "cell_type": "code",
      "source": [
        "while True:\n",
        "  city = input()\n",
        "  if city == 'quit':\n",
        "    break\n",
        "  else:\n",
        "    print(city.title())"
      ],
      "metadata": {
        "id": "WIQOpebubSeL"
      },
      "execution_count": null,
      "outputs": []
    },
    {
      "cell_type": "code",
      "source": [],
      "metadata": {
        "id": "056SGntvbk_b"
      },
      "execution_count": null,
      "outputs": []
    },
    {
      "cell_type": "markdown",
      "source": [
        "### **For** Loop"
      ],
      "metadata": {
        "id": "5GkCno2Bb1ud"
      }
    },
    {
      "cell_type": "code",
      "source": [
        "fruits = ['apple', 'orange', 'straberries', 'blueberries']\n",
        "\n",
        "type(fruits)"
      ],
      "metadata": {
        "id": "E8nY8P85b65f"
      },
      "execution_count": null,
      "outputs": []
    },
    {
      "cell_type": "markdown",
      "source": [
        "1. Simple for loop with a list."
      ],
      "metadata": {
        "id": "lDGTcK3scpMg"
      }
    },
    {
      "cell_type": "code",
      "source": [
        "for i in fruits:\n",
        "  print(i)\n",
        "\n"
      ],
      "metadata": {
        "id": "W2jwoQwocPsl"
      },
      "execution_count": null,
      "outputs": []
    },
    {
      "cell_type": "markdown",
      "source": [
        "2. loop with range"
      ],
      "metadata": {
        "id": "n8NBgnkdc2-3"
      }
    },
    {
      "cell_type": "code",
      "source": [
        "list(range(3))"
      ],
      "metadata": {
        "id": "Zif_xOkscYEH"
      },
      "execution_count": null,
      "outputs": []
    },
    {
      "cell_type": "code",
      "source": [
        "for number in range(10):\n",
        "  print(number)"
      ],
      "metadata": {
        "id": "BbvcipQrc6U1",
        "colab": {
          "base_uri": "https://localhost:8080/"
        },
        "outputId": "6723d81f-cdb0-4cc6-d406-4d7bb2125c4f"
      },
      "execution_count": null,
      "outputs": [
        {
          "output_type": "stream",
          "name": "stdout",
          "text": [
            "0\n",
            "1\n",
            "2\n",
            "3\n",
            "4\n",
            "5\n",
            "6\n",
            "7\n",
            "8\n",
            "9\n"
          ]
        }
      ]
    },
    {
      "cell_type": "code",
      "source": [
        "dates = [1977,1999,2001]\n",
        "\n",
        "for date in dates:\n",
        "  print(date)"
      ],
      "metadata": {
        "id": "zlkSc5O3dI3n",
        "colab": {
          "base_uri": "https://localhost:8080/"
        },
        "outputId": "0c465e9f-71f4-42fd-f661-90173c795217"
      },
      "execution_count": null,
      "outputs": [
        {
          "output_type": "stream",
          "name": "stdout",
          "text": [
            "1977\n",
            "1999\n",
            "2001\n"
          ]
        }
      ]
    },
    {
      "cell_type": "code",
      "source": [
        "bdays = len(dates)\n",
        "print(bdays)\n",
        "\n",
        "for i in range(bdays):\n",
        "  print(dates[i])"
      ],
      "metadata": {
        "id": "4eh7LtPudc1b"
      },
      "execution_count": null,
      "outputs": []
    },
    {
      "cell_type": "code",
      "source": [
        "for i in range(1,11):\n",
        "  print(i,')')"
      ],
      "metadata": {
        "id": "Lh2Oz5UEdtBS"
      },
      "execution_count": null,
      "outputs": []
    },
    {
      "cell_type": "code",
      "source": [
        "for l in 'banana':\n",
        "  print(l)"
      ],
      "metadata": {
        "id": "XmcLAriJeGuo"
      },
      "execution_count": null,
      "outputs": []
    },
    {
      "cell_type": "code",
      "source": [],
      "metadata": {
        "id": "9WAbeT5Bec3f"
      },
      "execution_count": null,
      "outputs": []
    },
    {
      "cell_type": "markdown",
      "source": [
        "###Loops with conditional statements"
      ],
      "metadata": {
        "id": "mz5tJ1FHeqbR"
      }
    },
    {
      "cell_type": "code",
      "source": [
        "num = [1,2,3,4,5,6,7,8,9]\n",
        "\n",
        "for stat in num:\n",
        "  if stat%2==0:\n",
        "    print('This is an even number')\n",
        "  else:\n",
        "    print('This is an odd numeber')\n",
        "\n"
      ],
      "metadata": {
        "id": "CQ_XpYnGetD0",
        "colab": {
          "base_uri": "https://localhost:8080/"
        },
        "outputId": "811a58f0-d4e3-41d5-8134-2b760d743a4a"
      },
      "execution_count": null,
      "outputs": [
        {
          "output_type": "stream",
          "name": "stdout",
          "text": [
            "This is an odd numeber\n",
            "This is an even number\n",
            "This is an odd numeber\n",
            "This is an even number\n",
            "This is an odd numeber\n",
            "This is an even number\n",
            "This is an odd numeber\n",
            "This is an even number\n",
            "This is an odd numeber\n"
          ]
        }
      ]
    },
    {
      "cell_type": "code",
      "source": [
        "numbers = [1,2,7,3,4,6,5]\n",
        "\n",
        "numbers.sort(reverse=True)\n",
        "\n",
        "print(numbers)"
      ],
      "metadata": {
        "id": "CmmlxU_efQuh",
        "colab": {
          "base_uri": "https://localhost:8080/"
        },
        "outputId": "30c7d175-d4ce-4ba6-bc5c-ae423988571f"
      },
      "execution_count": null,
      "outputs": [
        {
          "output_type": "stream",
          "name": "stdout",
          "text": [
            "[7, 6, 5, 4, 3, 2, 1]\n"
          ]
        }
      ]
    },
    {
      "cell_type": "markdown",
      "source": [
        "###Nested for Loop"
      ],
      "metadata": {
        "id": "U6bPzy3cf6mq"
      }
    },
    {
      "cell_type": "code",
      "source": [
        "##Loop inside loop\n",
        "\n",
        "for i in range(2):\n",
        "  for j in range(3):\n",
        "    print(i,j)"
      ],
      "metadata": {
        "id": "j_lnQptmf08w",
        "colab": {
          "base_uri": "https://localhost:8080/"
        },
        "outputId": "74d1f59c-d569-478a-b6ed-c941c50ab11c"
      },
      "execution_count": null,
      "outputs": [
        {
          "output_type": "stream",
          "name": "stdout",
          "text": [
            "0 0\n",
            "0 1\n",
            "0 2\n",
            "1 0\n",
            "1 1\n",
            "1 2\n"
          ]
        }
      ]
    },
    {
      "cell_type": "markdown",
      "source": [
        "###Continue"
      ],
      "metadata": {
        "id": "eQujUatug6xI"
      }
    },
    {
      "cell_type": "code",
      "source": [
        "reddy = 2\n",
        "\n",
        "while reddy<10:\n",
        "  reddy=reddy+1\n",
        "  if reddy%2==0:\n",
        "    continue## continue is like a skip, here if the remainder is 2, when the number is even, skip and if the number is odd, print. Until the number surppasses 10\n",
        "  print(reddy)"
      ],
      "metadata": {
        "id": "Q_7Ew9OYgIvk",
        "colab": {
          "base_uri": "https://localhost:8080/"
        },
        "outputId": "3cf40969-2ae5-4785-aa79-c156338199eb"
      },
      "execution_count": null,
      "outputs": [
        {
          "output_type": "stream",
          "name": "stdout",
          "text": [
            "3\n",
            "5\n",
            "7\n",
            "9\n"
          ]
        }
      ]
    },
    {
      "cell_type": "code",
      "source": [],
      "metadata": {
        "id": "P97hIa75hLa4"
      },
      "execution_count": null,
      "outputs": []
    }
  ]
}